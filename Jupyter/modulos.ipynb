{
 "cells": [
  {
   "cell_type": "code",
   "execution_count": 1,
   "id": "9f8d0911-236a-4dd8-bcad-91a368a6e7aa",
   "metadata": {},
   "outputs": [],
   "source": [
    "import datetime"
   ]
  },
  {
   "cell_type": "code",
   "execution_count": null,
   "id": "e1ef8313-1795-47d2-845a-6329d2db92f2",
   "metadata": {},
   "outputs": [],
   "source": [
    "datetime.<Tab>\n",
    "datetime.date datetime.MAXYEAR datetime.timedelta\n",
    "datetime.date datetime.MINYEAR datetime.timezone\n",
    "datetime.date_CAPI datetime.time datetime.tzinfo"
   ]
  }
 ],
 "metadata": {
  "kernelspec": {
   "display_name": "Python 3 (ipykernel)",
   "language": "python",
   "name": "python3"
  },
  "language_info": {
   "codemirror_mode": {
    "name": "ipython",
    "version": 3
   },
   "file_extension": ".py",
   "mimetype": "text/x-python",
   "name": "python",
   "nbconvert_exporter": "python",
   "pygments_lexer": "ipython3",
   "version": "3.12.2"
  }
 },
 "nbformat": 4,
 "nbformat_minor": 5
}
