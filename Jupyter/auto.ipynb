{
 "cells": [
  {
   "cell_type": "code",
   "execution_count": 1,
   "id": "3c80a068-365c-4189-98ac-06450f5ca7fe",
   "metadata": {},
   "outputs": [],
   "source": [
    "an_apple = 27"
   ]
  },
  {
   "cell_type": "code",
   "execution_count": 2,
   "id": "4cdad68e-48c9-4e78-9a59-b05ee040da81",
   "metadata": {},
   "outputs": [],
   "source": [
    "an_example = 42"
   ]
  },
  {
   "cell_type": "code",
   "execution_count": 3,
   "id": "b65721d0-8dd0-4f55-a221-a31ae77742b0",
   "metadata": {},
   "outputs": [],
   "source": [
    "b = [1, 2, 3]"
   ]
  },
  {
   "cell_type": "code",
   "execution_count": 5,
   "id": "4a9fdbed-4376-442d-b914-ddeed888d32e",
   "metadata": {},
   "outputs": [
    {
     "ename": "SyntaxError",
     "evalue": "invalid syntax (3975971933.py, line 2)",
     "output_type": "error",
     "traceback": [
      "\u001b[0;36m  Cell \u001b[0;32mIn[5], line 2\u001b[0;36m\u001b[0m\n\u001b[0;31m    b.append b.count b.insert b.reserve\u001b[0m\n\u001b[0m             ^\u001b[0m\n\u001b[0;31mSyntaxError\u001b[0m\u001b[0;31m:\u001b[0m invalid syntax\n"
     ]
    }
   ],
   "source": [
    "b.<Tab>\n",
    "b.append b.count b.insert b.reserve\n",
    "b.clear b.extend b.pop b.sort\n",
    "b.copy b.index b.remove"
   ]
  },
  {
   "cell_type": "code",
   "execution_count": 12,
   "id": "a92a42dd-9047-4854-82dd-7d2f52906584",
   "metadata": {},
   "outputs": [
    {
     "ename": "SyntaxError",
     "evalue": "only single target (not tuple) can be annotated (3138941782.py, line 3)",
     "output_type": "error",
     "traceback": [
      "\u001b[0;36m  Cell \u001b[0;32mIn[12], line 3\u001b[0;36m\u001b[0m\n\u001b[0;31m    String, Form: [1, 2, 3],\u001b[0m\n\u001b[0m    ^\u001b[0m\n\u001b[0;31mSyntaxError\u001b[0m\u001b[0;31m:\u001b[0m only single target (not tuple) can be annotated\n"
     ]
    }
   ],
   "source": [
    "b?\n",
    "type: list\n",
    "String Form: [1, 2, 3],\n",
    "Length: 3\n",
    "Docstring:\n",
    "list() -> new empty list\n",
    "list(iterable) -> new list initialized from iterables itens"
   ]
  },
  {
   "cell_type": "code",
   "execution_count": 15,
   "id": "b08d0b2d-5a38-4e4c-ad46-42ec017a99f3",
   "metadata": {},
   "outputs": [
    {
     "ename": "SyntaxError",
     "evalue": "invalid syntax (702616401.py, line 2)",
     "output_type": "error",
     "traceback": [
      "\u001b[0;36m  Cell \u001b[0;32mIn[15], line 2\u001b[0;36m\u001b[0m\n\u001b[0;31m    Docstring:\u001b[0m\n\u001b[0m               ^\u001b[0m\n\u001b[0;31mSyntaxError\u001b[0m\u001b[0;31m:\u001b[0m invalid syntax\n"
     ]
    }
   ],
   "source": [
    "print?\n",
    "Docstring: \n",
    "print(value, ..., sep='', end='\\n', file=sys.stdout,flush=False)\n",
    "Prints the values to a stream, or to sys.stdout by default.\n",
    "Optional keyword arguments:\n",
    "file: a file-like object (stream); defaults to the current sys.stdout.\n",
    "sep: string inserted between values, default a space.\n",
    "end: string appended after the last value, default a newline.\n",
    "flush: whether to forcibly flush the stream.\n",
    "Type: builtin_function_or_method"
   ]
  },
  {
   "cell_type": "code",
   "execution_count": 16,
   "id": "adf859c5-627d-420a-ad30-723238df7782",
   "metadata": {},
   "outputs": [
    {
     "ename": "SyntaxError",
     "evalue": "invalid decimal literal (3002418221.py, line 8)",
     "output_type": "error",
     "traceback": [
      "\u001b[0;36m  Cell \u001b[0;32mIn[16], line 8\u001b[0;36m\u001b[0m\n\u001b[0;31m    File: <ipython-input-9-6a548a216e27>\u001b[0m\n\u001b[0m                           ^\u001b[0m\n\u001b[0;31mSyntaxError\u001b[0m\u001b[0;31m:\u001b[0m invalid decimal literal\n"
     ]
    }
   ],
   "source": [
    "add_numbers?\n",
    "Signatures: add_numbers(a, b)\n",
    "Docstring:\n",
    "Add two numbers together\n",
    "Returns\n",
    "-------\n",
    "the_sum : type of arguments\n",
    "File: <ipython-input-9-6a548a216e27>\n",
    "Type: function"
   ]
  },
  {
   "cell_type": "code",
   "execution_count": 17,
   "id": "69bab2da-8ad1-40f6-a008-6faa635d00a8",
   "metadata": {},
   "outputs": [
    {
     "ename": "SyntaxError",
     "evalue": "invalid syntax (3661765336.py, line 3)",
     "output_type": "error",
     "traceback": [
      "\u001b[0;36m  Cell \u001b[0;32mIn[17], line 3\u001b[0;36m\u001b[0m\n\u001b[0;31m    Source:\u001b[0m\n\u001b[0m           ^\u001b[0m\n\u001b[0;31mSyntaxError\u001b[0m\u001b[0;31m:\u001b[0m invalid syntax\n"
     ]
    }
   ],
   "source": [
    "add_numbers??\n",
    "Signature: add_numbers(a, b)\n",
    "Source:\n",
    "def add_numbers(a, b):"
   ]
  },
  {
   "cell_type": "code",
   "execution_count": null,
   "id": "791c6778-9309-4a16-a70d-ee597f6dbfb9",
   "metadata": {},
   "outputs": [],
   "source": [
    "np.*load*?\n",
    "np.__loader__\n",
    "np.load\n",
    "np.loads\n",
    "np.loadtxt\n",
    "np.pkgload"
   ]
  }
 ],
 "metadata": {
  "kernelspec": {
   "display_name": "Python 3 (ipykernel)",
   "language": "python",
   "name": "python3"
  },
  "language_info": {
   "codemirror_mode": {
    "name": "ipython",
    "version": 3
   },
   "file_extension": ".py",
   "mimetype": "text/x-python",
   "name": "python",
   "nbconvert_exporter": "python",
   "pygments_lexer": "ipython3",
   "version": "3.12.2"
  }
 },
 "nbformat": 4,
 "nbformat_minor": 5
}
